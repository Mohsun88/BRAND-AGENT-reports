{
 "cells": [
  {
   "cell_type": "code",
   "execution_count": 1,
   "metadata": {},
   "outputs": [],
   "source": [
    "import pandas as pd\n",
    "import numpy as np\n",
    "import matplotlib.pyplot as plt\n",
    "import seaborn as sns"
   ]
  },
  {
   "cell_type": "code",
   "execution_count": 2,
   "metadata": {},
   "outputs": [],
   "source": [
    "df = pd.read_csv(\"Raw Test Data (Data Analyst) - Data.csv\", skiprows=1)"
   ]
  },
  {
   "cell_type": "code",
   "execution_count": 3,
   "metadata": {},
   "outputs": [
    {
     "data": {
      "text/html": [
       "<div>\n",
       "<style scoped>\n",
       "    .dataframe tbody tr th:only-of-type {\n",
       "        vertical-align: middle;\n",
       "    }\n",
       "\n",
       "    .dataframe tbody tr th {\n",
       "        vertical-align: top;\n",
       "    }\n",
       "\n",
       "    .dataframe thead th {\n",
       "        text-align: right;\n",
       "    }\n",
       "</style>\n",
       "<table border=\"1\" class=\"dataframe\">\n",
       "  <thead>\n",
       "    <tr style=\"text-align: right;\">\n",
       "      <th></th>\n",
       "      <th>id</th>\n",
       "      <th>date</th>\n",
       "      <th>chat duration in seconds</th>\n",
       "      <th>last operator id</th>\n",
       "      <th>group name</th>\n",
       "      <th>csat</th>\n",
       "      <th>tag 1</th>\n",
       "      <th>tag 2</th>\n",
       "      <th>tag 3</th>\n",
       "      <th>tag 4</th>\n",
       "      <th>tag 5</th>\n",
       "      <th>tag 6</th>\n",
       "      <th>custom variable 2 value</th>\n",
       "      <th>first response time</th>\n",
       "      <th>average response time</th>\n",
       "    </tr>\n",
       "  </thead>\n",
       "  <tbody>\n",
       "    <tr>\n",
       "      <th>0</th>\n",
       "      <td>1</td>\n",
       "      <td>1/1/19</td>\n",
       "      <td>292</td>\n",
       "      <td>brian</td>\n",
       "      <td>Brand A</td>\n",
       "      <td>not rated</td>\n",
       "      <td>device compatibility</td>\n",
       "      <td>NaN</td>\n",
       "      <td>NaN</td>\n",
       "      <td>NaN</td>\n",
       "      <td>NaN</td>\n",
       "      <td>NaN</td>\n",
       "      <td>NaN</td>\n",
       "      <td>32.0</td>\n",
       "      <td>19.0</td>\n",
       "    </tr>\n",
       "    <tr>\n",
       "      <th>1</th>\n",
       "      <td>2</td>\n",
       "      <td>1/2/19</td>\n",
       "      <td>715</td>\n",
       "      <td>brian</td>\n",
       "      <td>Brand A</td>\n",
       "      <td>not rated</td>\n",
       "      <td>multi-vehicle</td>\n",
       "      <td>NaN</td>\n",
       "      <td>NaN</td>\n",
       "      <td>NaN</td>\n",
       "      <td>NaN</td>\n",
       "      <td>NaN</td>\n",
       "      <td>NaN</td>\n",
       "      <td>12.0</td>\n",
       "      <td>9.0</td>\n",
       "    </tr>\n",
       "    <tr>\n",
       "      <th>2</th>\n",
       "      <td>3</td>\n",
       "      <td>1/3/19</td>\n",
       "      <td>277</td>\n",
       "      <td>brian</td>\n",
       "      <td>Brand B</td>\n",
       "      <td>not rated</td>\n",
       "      <td>price, deals and offers</td>\n",
       "      <td>NaN</td>\n",
       "      <td>NaN</td>\n",
       "      <td>NaN</td>\n",
       "      <td>NaN</td>\n",
       "      <td>NaN</td>\n",
       "      <td>NaN</td>\n",
       "      <td>34.0</td>\n",
       "      <td>31.0</td>\n",
       "    </tr>\n",
       "    <tr>\n",
       "      <th>3</th>\n",
       "      <td>4</td>\n",
       "      <td>1/4/19</td>\n",
       "      <td>272</td>\n",
       "      <td>brian</td>\n",
       "      <td>Brand C</td>\n",
       "      <td>not rated</td>\n",
       "      <td>greeter chat close</td>\n",
       "      <td>NaN</td>\n",
       "      <td>NaN</td>\n",
       "      <td>NaN</td>\n",
       "      <td>NaN</td>\n",
       "      <td>NaN</td>\n",
       "      <td>129.0</td>\n",
       "      <td>11.0</td>\n",
       "      <td>20.0</td>\n",
       "    </tr>\n",
       "    <tr>\n",
       "      <th>4</th>\n",
       "      <td>5</td>\n",
       "      <td>1/5/19</td>\n",
       "      <td>312</td>\n",
       "      <td>brian</td>\n",
       "      <td>Brand C</td>\n",
       "      <td>not rated</td>\n",
       "      <td>support</td>\n",
       "      <td>NaN</td>\n",
       "      <td>NaN</td>\n",
       "      <td>NaN</td>\n",
       "      <td>NaN</td>\n",
       "      <td>NaN</td>\n",
       "      <td>79.0</td>\n",
       "      <td>40.0</td>\n",
       "      <td>40.0</td>\n",
       "    </tr>\n",
       "  </tbody>\n",
       "</table>\n",
       "</div>"
      ],
      "text/plain": [
       "   id    date  chat duration in seconds last operator id group name  \\\n",
       "0   1  1/1/19                       292            brian    Brand A   \n",
       "1   2  1/2/19                       715            brian    Brand A   \n",
       "2   3  1/3/19                       277            brian    Brand B   \n",
       "3   4  1/4/19                       272            brian    Brand C   \n",
       "4   5  1/5/19                       312            brian    Brand C   \n",
       "\n",
       "        csat                    tag 1 tag 2 tag 3  tag 4  tag 5  tag 6  \\\n",
       "0  not rated     device compatibility   NaN   NaN    NaN    NaN    NaN   \n",
       "1  not rated            multi-vehicle   NaN   NaN    NaN    NaN    NaN   \n",
       "2  not rated  price, deals and offers   NaN   NaN    NaN    NaN    NaN   \n",
       "3  not rated       greeter chat close   NaN   NaN    NaN    NaN    NaN   \n",
       "4  not rated                  support   NaN   NaN    NaN    NaN    NaN   \n",
       "\n",
       "   custom variable 2 value  first response time  average response time  \n",
       "0                      NaN                 32.0                   19.0  \n",
       "1                      NaN                 12.0                    9.0  \n",
       "2                      NaN                 34.0                   31.0  \n",
       "3                    129.0                 11.0                   20.0  \n",
       "4                     79.0                 40.0                   40.0  "
      ]
     },
     "execution_count": 3,
     "metadata": {},
     "output_type": "execute_result"
    }
   ],
   "source": [
    "df.head()"
   ]
  },
  {
   "cell_type": "markdown",
   "metadata": {},
   "source": [
    "### BRAND REPORTS"
   ]
  },
  {
   "cell_type": "markdown",
   "metadata": {},
   "source": [
    "###### Total number of chats per brand"
   ]
  },
  {
   "cell_type": "code",
   "execution_count": 7,
   "metadata": {},
   "outputs": [
    {
     "name": "stdout",
     "output_type": "stream",
     "text": [
      "Brand A    26\n",
      "Brand F    22\n",
      "Brand E    17\n",
      "Brand D    15\n",
      "Brand B    14\n",
      "Brand C     6\n",
      "Name: group name, dtype: int64\n"
     ]
    },
    {
     "data": {
      "text/plain": [
       "<matplotlib.axes._subplots.AxesSubplot at 0x3fff4fc88828>"
      ]
     },
     "execution_count": 7,
     "metadata": {},
     "output_type": "execute_result"
    },
    {
     "data": {
      "image/png": "[encoded data removed]",
      "text/plain": [
       "<Figure size 432x288 with 1 Axes>"
      ]
     },
     "metadata": {},
     "output_type": "display_data"
    }
   ],
   "source": [
    "print(df['group name'].value_counts())\n",
    "sns.countplot(df['group name'])"
   ]
  },
  {
   "cell_type": "markdown",
   "metadata": {},
   "source": [
    "##### The number of sales for each brand"
   ]
  },
  {
   "cell_type": "code",
   "execution_count": 31,
   "metadata": {},
   "outputs": [
    {
     "name": "stdout",
     "output_type": "stream",
     "text": [
      "Brand F    11\n",
      "Brand A     9\n",
      "Brand E     9\n",
      "Brand D     5\n",
      "Brand B     4\n",
      "Brand C     1\n",
      "Name: group name, dtype: int64\n"
     ]
    },
    {
     "data": {
      "text/plain": [
       "<matplotlib.axes._subplots.AxesSubplot at 0x3fff504c99e8>"
      ]
     },
     "execution_count": 31,
     "metadata": {},
     "output_type": "execute_result"
    },
    {
     "data": {
      "image/png": "[encoded data removed]",
      "text/plain": [
       "<Figure size 432x288 with 1 Axes>"
      ]
     },
     "metadata": {},
     "output_type": "display_data"
    }
   ],
   "source": [
    "print(df[df[\"tag 1\"] == 'sales']['group name'].value_counts())\n",
    "sns.countplot(df[df[\"tag 1\"] == 'sales']['group name'])"
   ]
  },
  {
   "cell_type": "markdown",
   "metadata": {},
   "source": [
    "#### The conversion rate of each brand"
   ]
  },
  {
   "cell_type": "code",
   "execution_count": 52,
   "metadata": {},
   "outputs": [
    {
     "name": "stdout",
     "output_type": "stream",
     "text": [
      "Brand A    0.346154\n",
      "Brand B    0.285714\n",
      "Brand C    0.166667\n",
      "Brand D    0.333333\n",
      "Brand E    0.529412\n",
      "Brand F    0.500000\n",
      "Name: group name, dtype: float64\n"
     ]
    },
    {
     "data": {
      "text/plain": [
       "<matplotlib.axes._subplots.AxesSubplot at 0x3fff4f4b4198>"
      ]
     },
     "execution_count": 52,
     "metadata": {},
     "output_type": "execute_result"
    },
    {
     "data": {
      "image/png": "[encoded data removed]",
      "text/plain": [
       "<Figure size 432x288 with 1 Axes>"
      ]
     },
     "metadata": {},
     "output_type": "display_data"
    }
   ],
   "source": [
    "conv_rate = df[df[\"tag 1\"] == 'sales']['group name'].value_counts()/df['group name'].value_counts()\n",
    "print(conv_rate)\n",
    "sns.barplot(x=conv_rate.index, y = conv_rate.values)"
   ]
  },
  {
   "cell_type": "markdown",
   "metadata": {},
   "source": [
    "##### CSAT ratings for each brand"
   ]
  },
  {
   "cell_type": "code",
   "execution_count": 72,
   "metadata": {},
   "outputs": [
    {
     "data": {
      "text/plain": [
       "array(['not rated', 'rated good'], dtype=object)"
      ]
     },
     "execution_count": 72,
     "metadata": {},
     "output_type": "execute_result"
    }
   ],
   "source": [
    "df['csat'].unique()"
   ]
  },
  {
   "cell_type": "code",
   "execution_count": 73,
   "metadata": {},
   "outputs": [
    {
     "name": "stdout",
     "output_type": "stream",
     "text": [
      "Brand A    6\n",
      "Brand F    5\n",
      "Brand E    2\n",
      "Brand D    1\n",
      "Name: group name, dtype: int64\n"
     ]
    },
    {
     "data": {
      "text/plain": [
       "<matplotlib.axes._subplots.AxesSubplot at 0x3fff4f3ddb70>"
      ]
     },
     "execution_count": 73,
     "metadata": {},
     "output_type": "execute_result"
    },
    {
     "data": {
      "image/png": "[encoded data removed]",
      "text/plain": [
       "<Figure size 432x288 with 1 Axes>"
      ]
     },
     "metadata": {},
     "output_type": "display_data"
    }
   ],
   "source": [
    "print(df[df['csat'] == 'rated good']['group name'].value_counts())\n",
    "sns.countplot(df[df['csat'] == 'rated good']['group name'])"
   ]
  },
  {
   "cell_type": "markdown",
   "metadata": {},
   "source": [
    "##### The number of times each tag appears and a list of those tags"
   ]
  },
  {
   "cell_type": "code",
   "execution_count": 82,
   "metadata": {},
   "outputs": [
    {
     "data": {
      "text/plain": [
       "sales                        39\n",
       "how product works            14\n",
       "greeter chat close           12\n",
       "order processing              9\n",
       "price, deals and offers       8\n",
       "support                       6\n",
       "device compatibility          4\n",
       "multi-vehicle                 2\n",
       "technical issue               2\n",
       "vehicle compatibility         1\n",
       "storage media                 1\n",
       "organization and labeling     1\n",
       "negative feedback             1\n",
       "Name: tag 1, dtype: int64"
      ]
     },
     "execution_count": 82,
     "metadata": {},
     "output_type": "execute_result"
    }
   ],
   "source": [
    "df[\"tag 1\"].value_counts()"
   ]
  },
  {
   "cell_type": "code",
   "execution_count": 83,
   "metadata": {},
   "outputs": [
    {
     "data": {
      "text/plain": [
       "how product works                  12\n",
       "price, deals and offers             9\n",
       "order processing                    5\n",
       "multi-vehicle                       3\n",
       "device compatibility                3\n",
       "vehicle compatibility               3\n",
       "Brand F apps                        1\n",
       "formats accepted                    1\n",
       "organization and labeling           1\n",
       "how does it attach to dashboard     1\n",
       "sales                               1\n",
       "Name: tag 2, dtype: int64"
      ]
     },
     "execution_count": 83,
     "metadata": {},
     "output_type": "execute_result"
    }
   ],
   "source": [
    "df[\"tag 2\"].value_counts()"
   ]
  },
  {
   "cell_type": "code",
   "execution_count": 88,
   "metadata": {},
   "outputs": [
    {
     "data": {
      "text/plain": [
       "order processing    1\n",
       "Name: tag 3, dtype: int64"
      ]
     },
     "execution_count": 88,
     "metadata": {},
     "output_type": "execute_result"
    }
   ],
   "source": [
    "df[\"tag 3\"].value_counts()"
   ]
  },
  {
   "cell_type": "markdown",
   "metadata": {},
   "source": [
    "##### Avg. chat duration"
   ]
  },
  {
   "cell_type": "code",
   "execution_count": 102,
   "metadata": {},
   "outputs": [
    {
     "name": "stdout",
     "output_type": "stream",
     "text": [
      "group name\n",
      "Brand A    577.692308\n",
      "Brand B    380.357143\n",
      "Brand C    473.333333\n",
      "Brand D    890.066667\n",
      "Brand E    581.176471\n",
      "Brand F    352.772727\n",
      "Name: chat duration in seconds, dtype: float64\n"
     ]
    },
    {
     "data": {
      "text/plain": [
       "<matplotlib.axes._subplots.AxesSubplot at 0x3fff4f21cc18>"
      ]
     },
     "execution_count": 102,
     "metadata": {},
     "output_type": "execute_result"
    },
    {
     "data": {
      "image/png": "[encoded data removed]",
      "text/plain": [
       "<Figure size 432x288 with 1 Axes>"
      ]
     },
     "metadata": {},
     "output_type": "display_data"
    }
   ],
   "source": [
    "Avg_chat=df[\"chat duration in seconds\"].groupby(df['group name']).mean()\n",
    "print(Avg_chat)\n",
    "sns.barplot(x=Avg_chat.index, y = Avg_chat.values)"
   ]
  },
  {
   "cell_type": "markdown",
   "metadata": {},
   "source": [
    "##### First response time"
   ]
  },
  {
   "cell_type": "code",
   "execution_count": 103,
   "metadata": {},
   "outputs": [
    {
     "name": "stdout",
     "output_type": "stream",
     "text": [
      "group name\n",
      "Brand A    685.0\n",
      "Brand B    366.0\n",
      "Brand C    227.0\n",
      "Brand D    613.0\n",
      "Brand E    582.0\n",
      "Brand F    757.0\n",
      "Name: first response time, dtype: float64\n"
     ]
    },
    {
     "data": {
      "text/plain": [
       "<matplotlib.axes._subplots.AxesSubplot at 0x3fff4f184f98>"
      ]
     },
     "execution_count": 103,
     "metadata": {},
     "output_type": "execute_result"
    },
    {
     "data": {
      "image/png": "[encoded data removed]",
      "text/plain": [
       "<Figure size 432x288 with 1 Axes>"
      ]
     },
     "metadata": {},
     "output_type": "display_data"
    }
   ],
   "source": [
    "first_resp=df[\"first response time\"].groupby(df['group name']).sum()\n",
    "print(first_resp)\n",
    "sns.barplot(x=first_resp.index, y = first_resp.values)"
   ]
  },
  {
   "cell_type": "markdown",
   "metadata": {},
   "source": [
    "##### Avg. response time"
   ]
  },
  {
   "cell_type": "code",
   "execution_count": 105,
   "metadata": {},
   "outputs": [
    {
     "name": "stdout",
     "output_type": "stream",
     "text": [
      "group name\n",
      "Brand A    729.0\n",
      "Brand B    392.0\n",
      "Brand C    188.0\n",
      "Brand D    580.0\n",
      "Brand E    602.0\n",
      "Brand F    648.0\n",
      "Name: average response time, dtype: float64\n"
     ]
    },
    {
     "data": {
      "text/plain": [
       "<matplotlib.axes._subplots.AxesSubplot at 0x3fff4f0785f8>"
      ]
     },
     "execution_count": 105,
     "metadata": {},
     "output_type": "execute_result"
    },
    {
     "data": {
      "image/png": "[encoded data removed]",
      "text/plain": [
       "<Figure size 432x288 with 1 Axes>"
      ]
     },
     "metadata": {},
     "output_type": "display_data"
    }
   ],
   "source": [
    "avr_resp=df[\"average response time\"].groupby(df['group name']).sum()\n",
    "print(avr_resp)\n",
    "sns.barplot(x=avr_resp.index, y = avr_resp.values)"
   ]
  },
  {
   "cell_type": "markdown",
   "metadata": {},
   "source": [
    "### AGENT REPORTS"
   ]
  },
  {
   "cell_type": "code",
   "execution_count": 107,
   "metadata": {},
   "outputs": [
    {
     "data": {
      "text/html": [
       "<div>\n",
       "<style scoped>\n",
       "    .dataframe tbody tr th:only-of-type {\n",
       "        vertical-align: middle;\n",
       "    }\n",
       "\n",
       "    .dataframe tbody tr th {\n",
       "        vertical-align: top;\n",
       "    }\n",
       "\n",
       "    .dataframe thead th {\n",
       "        text-align: right;\n",
       "    }\n",
       "</style>\n",
       "<table border=\"1\" class=\"dataframe\">\n",
       "  <thead>\n",
       "    <tr style=\"text-align: right;\">\n",
       "      <th></th>\n",
       "      <th>id</th>\n",
       "      <th>date</th>\n",
       "      <th>chat duration in seconds</th>\n",
       "      <th>last operator id</th>\n",
       "      <th>group name</th>\n",
       "      <th>csat</th>\n",
       "      <th>tag 1</th>\n",
       "      <th>tag 2</th>\n",
       "      <th>tag 3</th>\n",
       "      <th>tag 4</th>\n",
       "      <th>tag 5</th>\n",
       "      <th>tag 6</th>\n",
       "      <th>custom variable 2 value</th>\n",
       "      <th>first response time</th>\n",
       "      <th>average response time</th>\n",
       "    </tr>\n",
       "  </thead>\n",
       "  <tbody>\n",
       "    <tr>\n",
       "      <th>0</th>\n",
       "      <td>1</td>\n",
       "      <td>1/1/19</td>\n",
       "      <td>292</td>\n",
       "      <td>brian</td>\n",
       "      <td>Brand A</td>\n",
       "      <td>not rated</td>\n",
       "      <td>device compatibility</td>\n",
       "      <td>NaN</td>\n",
       "      <td>NaN</td>\n",
       "      <td>NaN</td>\n",
       "      <td>NaN</td>\n",
       "      <td>NaN</td>\n",
       "      <td>NaN</td>\n",
       "      <td>32.0</td>\n",
       "      <td>19.0</td>\n",
       "    </tr>\n",
       "    <tr>\n",
       "      <th>1</th>\n",
       "      <td>2</td>\n",
       "      <td>1/2/19</td>\n",
       "      <td>715</td>\n",
       "      <td>brian</td>\n",
       "      <td>Brand A</td>\n",
       "      <td>not rated</td>\n",
       "      <td>multi-vehicle</td>\n",
       "      <td>NaN</td>\n",
       "      <td>NaN</td>\n",
       "      <td>NaN</td>\n",
       "      <td>NaN</td>\n",
       "      <td>NaN</td>\n",
       "      <td>NaN</td>\n",
       "      <td>12.0</td>\n",
       "      <td>9.0</td>\n",
       "    </tr>\n",
       "    <tr>\n",
       "      <th>2</th>\n",
       "      <td>3</td>\n",
       "      <td>1/3/19</td>\n",
       "      <td>277</td>\n",
       "      <td>brian</td>\n",
       "      <td>Brand B</td>\n",
       "      <td>not rated</td>\n",
       "      <td>price, deals and offers</td>\n",
       "      <td>NaN</td>\n",
       "      <td>NaN</td>\n",
       "      <td>NaN</td>\n",
       "      <td>NaN</td>\n",
       "      <td>NaN</td>\n",
       "      <td>NaN</td>\n",
       "      <td>34.0</td>\n",
       "      <td>31.0</td>\n",
       "    </tr>\n",
       "  </tbody>\n",
       "</table>\n",
       "</div>"
      ],
      "text/plain": [
       "   id    date  chat duration in seconds last operator id group name  \\\n",
       "0   1  1/1/19                       292            brian    Brand A   \n",
       "1   2  1/2/19                       715            brian    Brand A   \n",
       "2   3  1/3/19                       277            brian    Brand B   \n",
       "\n",
       "        csat                    tag 1 tag 2 tag 3  tag 4  tag 5  tag 6  \\\n",
       "0  not rated     device compatibility   NaN   NaN    NaN    NaN    NaN   \n",
       "1  not rated            multi-vehicle   NaN   NaN    NaN    NaN    NaN   \n",
       "2  not rated  price, deals and offers   NaN   NaN    NaN    NaN    NaN   \n",
       "\n",
       "   custom variable 2 value  first response time  average response time  \n",
       "0                      NaN                 32.0                   19.0  \n",
       "1                      NaN                 12.0                    9.0  \n",
       "2                      NaN                 34.0                   31.0  "
      ]
     },
     "execution_count": 107,
     "metadata": {},
     "output_type": "execute_result"
    }
   ],
   "source": [
    "df.head(3)"
   ]
  },
  {
   "cell_type": "markdown",
   "metadata": {},
   "source": [
    "##### Total number of chats"
   ]
  },
  {
   "cell_type": "code",
   "execution_count": 106,
   "metadata": {},
   "outputs": [
    {
     "name": "stdout",
     "output_type": "stream",
     "text": [
      "kelly    51\n",
      "brian    49\n",
      "Name: last operator id, dtype: int64\n"
     ]
    },
    {
     "data": {
      "text/plain": [
       "<matplotlib.axes._subplots.AxesSubplot at 0x3fff4f0604e0>"
      ]
     },
     "execution_count": 106,
     "metadata": {},
     "output_type": "execute_result"
    },
    {
     "data": {
      "image/png": "[encoded data removed]",
      "text/plain": [
       "<Figure size 432x288 with 1 Axes>"
      ]
     },
     "metadata": {},
     "output_type": "display_data"
    }
   ],
   "source": [
    "print(df['last operator id'].value_counts())\n",
    "sns.countplot(df['last operator id'])"
   ]
  },
  {
   "cell_type": "markdown",
   "metadata": {},
   "source": [
    "#### The number of sales for each agent"
   ]
  },
  {
   "cell_type": "code",
   "execution_count": 109,
   "metadata": {},
   "outputs": [
    {
     "name": "stdout",
     "output_type": "stream",
     "text": [
      "kelly    39\n",
      "Name: last operator id, dtype: int64\n"
     ]
    }
   ],
   "source": [
    "print(df[df[\"tag 1\"] == 'sales']['last operator id'].value_counts())"
   ]
  },
  {
   "cell_type": "markdown",
   "metadata": {},
   "source": [
    "##### The conversion rate of each agent"
   ]
  },
  {
   "cell_type": "code",
   "execution_count": 111,
   "metadata": {},
   "outputs": [
    {
     "name": "stdout",
     "output_type": "stream",
     "text": [
      "brian         NaN\n",
      "kelly    0.764706\n",
      "Name: last operator id, dtype: float64\n"
     ]
    },
    {
     "data": {
      "text/plain": [
       "<matplotlib.axes._subplots.AxesSubplot at 0x3fff4ef55a58>"
      ]
     },
     "execution_count": 111,
     "metadata": {},
     "output_type": "execute_result"
    },
    {
     "data": {
      "image/png": "[encoded data removed]",
      "text/plain": [
       "<Figure size 432x288 with 1 Axes>"
      ]
     },
     "metadata": {},
     "output_type": "display_data"
    }
   ],
   "source": [
    "conv_rate = df[df[\"tag 1\"] == 'sales']['last operator id'].value_counts()/df['last operator id'].value_counts()\n",
    "print(conv_rate)\n",
    "sns.barplot(x=conv_rate.index, y = conv_rate.values)"
   ]
  },
  {
   "cell_type": "markdown",
   "metadata": {},
   "source": [
    "#### CSAT ratings for each agent"
   ]
  },
  {
   "cell_type": "code",
   "execution_count": 112,
   "metadata": {},
   "outputs": [
    {
     "name": "stdout",
     "output_type": "stream",
     "text": [
      "brian    8\n",
      "kelly    6\n",
      "Name: last operator id, dtype: int64\n"
     ]
    },
    {
     "data": {
      "text/plain": [
       "<matplotlib.axes._subplots.AxesSubplot at 0x3fff4ef2c780>"
      ]
     },
     "execution_count": 112,
     "metadata": {},
     "output_type": "execute_result"
    },
    {
     "data": {
      "image/png": "[encoded data removed]",
      "text/plain": [
       "<Figure size 432x288 with 1 Axes>"
      ]
     },
     "metadata": {},
     "output_type": "display_data"
    }
   ],
   "source": [
    "print(df[df['csat'] == 'rated good']['last operator id'].value_counts())\n",
    "sns.countplot(df[df['csat'] == 'rated good']['last operator id'])"
   ]
  },
  {
   "cell_type": "markdown",
   "metadata": {},
   "source": [
    "#### Avg. chat duration"
   ]
  },
  {
   "cell_type": "code",
   "execution_count": 113,
   "metadata": {},
   "outputs": [
    {
     "name": "stdout",
     "output_type": "stream",
     "text": [
      "last operator id\n",
      "brian    615.897959\n",
      "kelly    470.549020\n",
      "Name: chat duration in seconds, dtype: float64\n"
     ]
    },
    {
     "data": {
      "text/plain": [
       "<matplotlib.axes._subplots.AxesSubplot at 0x3fff4ee7a4e0>"
      ]
     },
     "execution_count": 113,
     "metadata": {},
     "output_type": "execute_result"
    },
    {
     "data": {
      "image/png": "[encoded data removed]",
      "text/plain": [
       "<Figure size 432x288 with 1 Axes>"
      ]
     },
     "metadata": {},
     "output_type": "display_data"
    }
   ],
   "source": [
    "Avg_chat=df[\"chat duration in seconds\"].groupby(df['last operator id']).mean()\n",
    "print(Avg_chat)\n",
    "sns.barplot(x=Avg_chat.index, y = Avg_chat.values)"
   ]
  },
  {
   "cell_type": "markdown",
   "metadata": {},
   "source": [
    "#### Avg. response time"
   ]
  },
  {
   "cell_type": "code",
   "execution_count": 114,
   "metadata": {},
   "outputs": [
    {
     "name": "stdout",
     "output_type": "stream",
     "text": [
      "last operator id\n",
      "brian    1694.0\n",
      "kelly    1445.0\n",
      "Name: average response time, dtype: float64\n"
     ]
    },
    {
     "data": {
      "text/plain": [
       "<matplotlib.axes._subplots.AxesSubplot at 0x3fff4ee4b198>"
      ]
     },
     "execution_count": 114,
     "metadata": {},
     "output_type": "execute_result"
    },
    {
     "data": {
      "image/png": "[encoded data removed]",
      "text/plain": [
       "<Figure size 432x288 with 1 Axes>"
      ]
     },
     "metadata": {},
     "output_type": "display_data"
    }
   ],
   "source": [
    "avr_resp=df[\"average response time\"].groupby(df['last operator id']).sum()\n",
    "print(avr_resp)\n",
    "sns.barplot(x=avr_resp.index, y = avr_resp.values)"
   ]
  },
  {
   "cell_type": "markdown",
   "metadata": {},
   "source": [
    "#### First response time"
   ]
  },
  {
   "cell_type": "code",
   "execution_count": 115,
   "metadata": {},
   "outputs": [
    {
     "name": "stdout",
     "output_type": "stream",
     "text": [
      "last operator id\n",
      "brian    1603.0\n",
      "kelly    1627.0\n",
      "Name: first response time, dtype: float64\n"
     ]
    },
    {
     "data": {
      "text/plain": [
       "<matplotlib.axes._subplots.AxesSubplot at 0x3fff4ee22898>"
      ]
     },
     "execution_count": 115,
     "metadata": {},
     "output_type": "execute_result"
    },
    {
     "data": {
      "image/png": "[encoded data removed]",
      "text/plain": [
       "<Figure size 432x288 with 1 Axes>"
      ]
     },
     "metadata": {},
     "output_type": "display_data"
    }
   ],
   "source": [
    "first_resp=df[\"first response time\"].groupby(df['last operator id']).sum()\n",
    "print(first_resp)\n",
    "sns.barplot(x=first_resp.index, y = first_resp.values)"
   ]
  },
  {
   "cell_type": "code",
   "execution_count": null,
   "metadata": {},
   "outputs": [],
   "source": []
  }
 ],
 "metadata": {
  "kernelspec": {
   "display_name": "Python 3",
   "language": "python",
   "name": "python3"
  },
  "language_info": {
   "codemirror_mode": {
    "name": "ipython",
    "version": 3
   },
   "file_extension": ".py",
   "mimetype": "text/x-python",
   "name": "python",
   "nbconvert_exporter": "python",
   "pygments_lexer": "ipython3",
   "version": "3.7.0"
  }
 },
 "nbformat": 4,
 "nbformat_minor": 2
}
